{
 "cells": [
  {
   "cell_type": "markdown",
   "id": "exterior-cincinnati",
   "metadata": {},
   "source": [
    "Connecting to nVidia GPU"
   ]
  },
  {
   "cell_type": "code",
   "execution_count": null,
   "id": "assured-commitment",
   "metadata": {},
   "outputs": [],
   "source": [
    "# Check if NVIDIA GPU is enabled\n",
    "!nvidia-smi"
   ]
  },
  {
   "cell_type": "markdown",
   "id": "alone-google",
   "metadata": {},
   "source": [
    "Mounting Google Drive"
   ]
  },
  {
   "cell_type": "code",
   "execution_count": null,
   "id": "necessary-petite",
   "metadata": {},
   "outputs": [],
   "source": [
    "from google.colab import drive\n",
    "drive.mount('/content/gdrive')\n",
    "!ln -s /content/gdrive/My\\ Drive/ /mydrive\n",
    "!ls /mydrive\n",
    "!mkdir \"/content/gdrive/MyDrive/KerasCifar10/\""
   ]
  },
  {
   "cell_type": "markdown",
   "id": "corresponding-pottery",
   "metadata": {},
   "source": [
    "Import libs"
   ]
  },
  {
   "cell_type": "code",
   "execution_count": null,
   "id": "convenient-result",
   "metadata": {},
   "outputs": [],
   "source": [
    "import numpy\n",
    "from keras.models import Sequential\n",
    "from keras.layers import Dense,Dropout,Flatten,Conv2D,MaxPooling2D\n",
    "from keras.constraints import maxnorm\n",
    "from keras.optimizers import SGD\n",
    "from keras.utils import np_utils \n",
    "from keras import backend as K \n",
    "from keras.models import load_model \n",
    "#K.set_image_dim_ordering('tf')\n",
    "K.set_image_data_format('channels_last')"
   ]
  },
  {
   "cell_type": "markdown",
   "id": "chief-acquisition",
   "metadata": {},
   "source": [
    "Prepearing Cifar-10 dataset"
   ]
  },
  {
   "cell_type": "code",
   "execution_count": null,
   "id": "loved-storage",
   "metadata": {},
   "outputs": [],
   "source": [
    "from keras.datasets import cifar10\n",
    "# let's load data \n",
    "(X_train, y_train), (X_test, y_test) = cifar10.load_data()"
   ]
  },
  {
   "cell_type": "markdown",
   "id": "coordinated-undergraduate",
   "metadata": {},
   "source": [
    "Normalisation"
   ]
  },
  {
   "cell_type": "code",
   "execution_count": null,
   "id": "designed-recipient",
   "metadata": {},
   "outputs": [],
   "source": [
    "#normalizing inputs from 0-255 to 0.0-1.0 \n",
    "X_train = X_train.astype('float32') \n",
    "X_test = X_test.astype('float32') \n",
    "X_train = X_train / 255.0 \n",
    "X_test = X_test / 255.0\n",
    "\n",
    "# one hot encode outputs \n",
    "y_train = np_utils.to_categorical(y_train) \n",
    "y_test = np_utils.to_categorical(y_test) \n",
    "num_classes = y_test.shape[1]"
   ]
  },
  {
   "cell_type": "markdown",
   "id": "sophisticated-penny",
   "metadata": {},
   "source": [
    "Creating image classification model"
   ]
  },
  {
   "cell_type": "code",
   "execution_count": null,
   "id": "remarkable-growth",
   "metadata": {},
   "outputs": [],
   "source": [
    "# Create the model \n",
    "model = Sequential()\n",
    "\n",
    "model.add(Conv2D(32, (3, 3), input_shape=(32,32,3), activation='relu', padding='same')) \n",
    "model.add(Dropout(0.2)) \n",
    "model.add(Conv2D(32, (3, 3), activation='relu', padding='same')) \n",
    "model.add(MaxPooling2D(pool_size=(2, 2))) \n",
    "model.add(Conv2D(64, (3, 3), activation='relu', padding='same')) \n",
    "model.add(Dropout(0.2)) \n",
    "model.add(Conv2D(64, (3, 3), activation='relu', padding='same')) \n",
    "model.add(MaxPooling2D(pool_size=(2, 2))) \n",
    "model.add(Conv2D(128, (3, 3), activation='relu', padding='same')) \n",
    "model.add(Dropout(0.2)) \n",
    "model.add(Conv2D(128, (3, 3), activation='relu', padding='same')) \n",
    "model.add(MaxPooling2D(pool_size=(2, 2))) \n",
    "model.add(Flatten()) \n",
    "model.add(Dropout(0.2)) \n",
    "model.add(Dense(1024, activation='relu', kernel_constraint=maxnorm(3))) \n",
    "model.add(Dropout(0.2)) \n",
    "model.add(Dense(512, activation='relu', kernel_constraint=maxnorm(3))) \n",
    "model.add(Dropout(0.2)) \n",
    "model.add(Dense(num_classes, activation='softmax'))\n",
    "\n",
    "print(model.summary())"
   ]
  },
  {
   "cell_type": "markdown",
   "id": "relevant-carry",
   "metadata": {},
   "source": [
    "Compiling model"
   ]
  },
  {
   "cell_type": "code",
   "execution_count": null,
   "id": "intellectual-struggle",
   "metadata": {},
   "outputs": [],
   "source": [
    "# Compile model \n",
    "lrate = 0.01 \n",
    "epoch = 100\n",
    "decay = lrate/epoch\n",
    "sgd = SGD(lr=lrate, momentum=0.9, decay=decay, nesterov=False) \n",
    "model.compile(loss='categorical_crossentropy', optimizer=sgd, metrics=['accuracy'])"
   ]
  },
  {
   "cell_type": "markdown",
   "id": "sustainable-morocco",
   "metadata": {},
   "source": [
    "Training and save model"
   ]
  },
  {
   "cell_type": "code",
   "execution_count": null,
   "id": "careful-hometown",
   "metadata": {},
   "outputs": [],
   "source": [
    "model.fit(X_train, y_train, validation_data=(X_test, y_test), epochs=epoch, batch_size=32) \n",
    "# Final evaluation of the model \n",
    "scores = model.evaluate(X_test, y_test, verbose=0) \n",
    "print(\"Accuracy: %.2f%%\" % (scores[1]*100))\n",
    "model.save('/content/gdrive/MyDrive/KerasCifar10/keras_cifar10_project_model.h5')"
   ]
  },
  {
   "cell_type": "markdown",
   "id": "spectacular-giving",
   "metadata": {},
   "source": [
    "Save model"
   ]
  },
  {
   "cell_type": "code",
   "execution_count": null,
   "id": "forty-change",
   "metadata": {},
   "outputs": [],
   "source": [
    "model.save('keras_cifar10_project_model.h5')"
   ]
  },
  {
   "cell_type": "markdown",
   "id": "veterinary-thousand",
   "metadata": {},
   "source": [
    "Load model"
   ]
  },
  {
   "cell_type": "code",
   "execution_count": null,
   "id": "increasing-people",
   "metadata": {},
   "outputs": [],
   "source": [
    "model = load_model('/content/gdrive/MyDrive/KerasCifar10/keras_cifar10_project_model.h5')"
   ]
  },
  {
   "cell_type": "markdown",
   "id": "cloudy-conspiracy",
   "metadata": {},
   "source": [
    "Test model"
   ]
  },
  {
   "cell_type": "code",
   "execution_count": null,
   "id": "fitted-symbol",
   "metadata": {},
   "outputs": [],
   "source": [
    "import numpy as np \n",
    "from keras.preprocessing import image\n",
    "# Give the link of the image here to test \n",
    "test_image1 =image.load_img('/home/ai34/Downloads/c1.jpeg',target_size =(32,32))\n",
    "\n",
    "test_image =image.img_to_array(test_image1) \n",
    "test_image =np.expand_dims(test_image, axis =0) \n",
    "result = model.predict(test_image) \n",
    "print(result) \n",
    "if result[0][0]==1: \n",
    "    print(\"Aeroplane\") \n",
    "elif result[0][1]==1: \n",
    "    print('Automobile') \n",
    "elif result[0][2]==1: \n",
    "    print('Bird') \n",
    "elif result[0][3]==1: \n",
    "    print('Cat') \n",
    "elif result[0][4]==1: \n",
    "    print('Deer') \n",
    "elif result[0][5]==1: \n",
    "    print('Dog') \n",
    "elif result[0][6]==1: \n",
    "    print('Frog') \n",
    "elif result[0][7]==1: \n",
    "    print('Horse') \n",
    "elif result[0][8]==1: \n",
    "    print('Ship') \n",
    "elif result[0][9]==1: \n",
    "    print('Truck') \n",
    "else: \n",
    "    print('Error')\n",
    "    \n",
    "%matplotlib inline \n",
    "import matplotlib.pyplot as plt \n",
    "plt.imshow(test_image1)"
   ]
  }
 ],
 "metadata": {
  "kernelspec": {
   "display_name": "Python 3",
   "language": "python",
   "name": "python3"
  },
  "language_info": {
   "codemirror_mode": {
    "name": "ipython",
    "version": 3
   },
   "file_extension": ".py",
   "mimetype": "text/x-python",
   "name": "python",
   "nbconvert_exporter": "python",
   "pygments_lexer": "ipython3",
   "version": "3.7.3"
  }
 },
 "nbformat": 4,
 "nbformat_minor": 5
}
